{
 "cells": [
  {
   "cell_type": "markdown",
   "id": "59839523-6e7b-45bd-a976-eac950911c33",
   "metadata": {},
   "source": [
    "# Data Science Tools and Ecosystem"
   ]
  },
  {
   "cell_type": "markdown",
   "id": "dea25a69-3466-49ce-847f-ffadd7f57ae6",
   "metadata": {},
   "source": [
    "In this notebook, Data Science Tools and Ecosystem are summarized."
   ]
  },
  {
   "cell_type": "markdown",
   "id": "025f5e77-bdab-468a-8593-2fb899269f54",
   "metadata": {},
   "source": [
    "**Objectives**\n",
    "- List popular languages for Data Science\n",
    "- List commonly used Data Science Libraries\n",
    "- Create a table of open-source development tools\n",
    "- Demonstrate basic arithmetic expression in Python"
   ]
  },
  {
   "cell_type": "markdown",
   "id": "de4b39c6-dd04-43b2-a96b-71f3fcd74316",
   "metadata": {},
   "source": [
    "Some of the popular languages that Data Scientists use are:\n",
    "1.Python\n",
    "2.R\n",
    "3.SQL"
   ]
  },
  {
   "cell_type": "markdown",
   "id": "4c417c3e-bf1d-41b9-b307-31a4aa9effbb",
   "metadata": {},
   "source": [
    "Some of the commonly used libraries used by Data Scientists include:\n",
    "1.Pandas\n",
    "2.NumPy\n",
    "3.Matplotlib"
   ]
  },
  {
   "cell_type": "markdown",
   "id": "5a0ea02f-02de-414f-a28a-8a6c24e1888f",
   "metadata": {},
   "source": [
    "\n",
    "\n",
    "|Data Science Tools|\n",
    "|------------------|\n",
    "|JupyterLab        |\n",
    "|RStudio           |\n",
    "|VS Code           |"
   ]
  },
  {
   "cell_type": "markdown",
   "id": "09766c51-a9c4-46f1-abe4-4d8c754f8000",
   "metadata": {},
   "source": [
    "### Below are a few examples of evaluating arithmetic expressions in Python"
   ]
  },
  {
   "cell_type": "code",
   "execution_count": null,
   "id": "1aefb8a0-7f26-428d-88f3-15c0b0daefef",
   "metadata": {},
   "outputs": [],
   "source": [
    "This a simple arithmetic expression to mutiply then add integers\n",
    "(3*4)+5"
   ]
  },
  {
   "cell_type": "code",
   "execution_count": null,
   "id": "fb207c41-0e8e-48e7-b7d8-c6204f98a36e",
   "metadata": {},
   "outputs": [],
   "source": [
    "This will convert 200 minutes to hours by diving by 60\n",
    "200/60"
   ]
  },
  {
   "cell_type": "markdown",
   "id": "06776eff-b7a8-400c-9f82-3080d31afc1f",
   "metadata": {},
   "source": [
    "## Author\n",
    "Gislene Robles"
   ]
  }
 ],
 "metadata": {
  "kernelspec": {
   "display_name": "anaconda-panel-2023.05-py310",
   "language": "python",
   "name": "conda-env-anaconda-panel-2023.05-py310-py"
  },
  "language_info": {
   "codemirror_mode": {
    "name": "ipython",
    "version": 3
   },
   "file_extension": ".py",
   "mimetype": "text/x-python",
   "name": "python",
   "nbconvert_exporter": "python",
   "pygments_lexer": "ipython3",
   "version": "3.11.5"
  }
 },
 "nbformat": 4,
 "nbformat_minor": 5
}
